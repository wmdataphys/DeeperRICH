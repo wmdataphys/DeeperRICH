{
 "cells": [
  {
   "cell_type": "code",
   "execution_count": 1,
   "id": "8b305ae3",
   "metadata": {
    "scrolled": true
   },
   "outputs": [
    {
     "name": "stderr",
     "output_type": "stream",
     "text": [
      "C:\\Users\\James\\.conda\\envs\\ptorch\\lib\\site-packages\\tqdm\\auto.py:21: TqdmWarning: IProgress not found. Please update jupyter and ipywidgets. See https://ipywidgets.readthedocs.io/en/stable/user_install.html\n",
      "  from .autonotebook import tqdm as notebook_tqdm\n"
     ]
    }
   ],
   "source": [
    "from torch.utils.data import Dataset\n",
    "import numpy as np\n",
    "import os\n",
    "import torch\n",
    "import random\n",
    "import collections\n",
    "\n",
    "\n",
    "class DIRC_Dataset(Dataset):\n",
    "\n",
    "    def __init__(self,data,stats={\"x_max\": 892,\"x_min\":0,\"y_max\":292,\"y_min\":0,\"time_max\":500.00,\"time_min\":0.0}):\n",
    "        self.data = data\n",
    "        self.stats = stats\n",
    "\n",
    "    def __len__(self):\n",
    "        return len(self.data)\n",
    "\n",
    "    def __getitem__(self, idx):\n",
    "\n",
    "        # ['EventID','PDG','NHits','BarID','P','Theta','Phi','X','Y','Z',\n",
    "        # 'pmtID','pixelID','channel'','leadTime']\n",
    "\n",
    "        # Get the sample\n",
    "        data = self.data[idx]\n",
    "        \n",
    "        PID = data['PDG']\n",
    "        barID = data['BarID']\n",
    "        barX = data['X']\n",
    "        barY = data['Y']\n",
    "        pmtID = np.array(data['pmtID'])\n",
    "        event_num = data['EventID']\n",
    "        o_box = pmtID//108\n",
    "        if len(o_box) == 0:\n",
    "            return 0,0,0,0,-1\n",
    "\n",
    "        if o_box[0] == 1:\n",
    "            pmtID -= 108\n",
    "\n",
    "        if len(np.unique(o_box)) != 1:\n",
    "            print(np.unique(o_box))\n",
    "\n",
    "        pixelID = np.array(data['pixelID'])\n",
    "\n",
    "        row = (pmtID//18) * 8 + pixelID//8\n",
    "        col = (pmtID%18) * 8 + pixelID%8\n",
    "\n",
    "        time = np.array(data['leadTime'])\n",
    "\n",
    "        pos_time = np.where((time > 0) & (time < 500))[0]\n",
    "        row = row[pos_time]\n",
    "        col = col[pos_time]\n",
    "        time = time[pos_time]\n",
    "        pmtID = pmtID[pos_time]\n",
    "        \n",
    "        assert len(row) == len(time)\n",
    "\n",
    "        x = col * 6 + (pmtID % 18) * 2 + 3# + np.random.uniform(-3,3)\n",
    "        y = row * 6 + (pmtID // 18) * 2 + 3# + np.random.uniform(-3,3,random)\n",
    "\n",
    "        if abs(PID) == 211: # 211 is Pion from rho decay\n",
    "            PID = 1\n",
    "        elif abs(PID) == 321: # 321 is Kaon from phi decay\n",
    "            PID = 0\n",
    "        else:\n",
    "            return 0,0,0,0,-1\n",
    "            #print(\"Ambiguous final state {0}. Check event {1}\".format(PID,idx))\n",
    "            \n",
    "        barID = np.ones_like(pmtID) * barID\n",
    "        barX = np.ones_like(pmtID) * barX\n",
    "        barY = np.ones_like(pmtID) * barY\n",
    "        \n",
    "        metadata = np.concatenate([np.c_[barID],np.c_[barX],np.c_[barY]],axis=1)\n",
    "    \n",
    "        cond = np.array([data['P'],data['Theta'],data['Phi']])\n",
    "        cond = cond.reshape(1,-1).repeat(len(x),0)\n",
    "        hits = np.concatenate([np.c_[x],np.c_[y],np.c_[time]],axis=1)\n",
    "        return hits,cond,metadata,event_num,1\n"
   ]
  },
  {
   "cell_type": "markdown",
   "id": "15995080",
   "metadata": {},
   "source": [
    "# Making .pkl files for DLL\n",
    "\n",
    "Just reuse the pion code for kaons. Makes it simpler."
   ]
  },
  {
   "cell_type": "code",
   "execution_count": 7,
   "id": "6a18ec05",
   "metadata": {},
   "outputs": [],
   "source": [
    "import numpy as np\n",
    "\n",
    "all_pions = np.load(\"path/to/pions_or_kaons.pkl\",allow_pickle=True)"
   ]
  },
  {
   "cell_type": "code",
   "execution_count": 8,
   "id": "d3a96a15",
   "metadata": {},
   "outputs": [
    {
     "name": "stdout",
     "output_type": "stream",
     "text": [
      "0\n",
      "980478 210102 210103\n"
     ]
    }
   ],
   "source": [
    "Nt = int(0.7 * len(all_pions))\n",
    "train_pions = all_pions[:Nt]\n",
    "test_val = all_pions[Nt:]\n",
    "\n",
    "Nv = int(0.5 * len(test_val))\n",
    "val_pions = test_val[Nv:]\n",
    "test_pions = test_val[:Nv]\n",
    "\n",
    "print(len(train_pions) + len(test_pions) + len(val_pions) - len(all_pions))\n",
    "print(len(train_pions), len(test_pions), len(val_pions))"
   ]
  },
  {
   "cell_type": "code",
   "execution_count": 4,
   "id": "4649097b",
   "metadata": {},
   "outputs": [
    {
     "data": {
      "text/plain": [
       "(1297003, 277929, 277930)"
      ]
     },
     "execution_count": 4,
     "metadata": {},
     "output_type": "execute_result"
    }
   ],
   "source": [
    "len(train_pions),len(test_pions),len(val_pions)"
   ]
  },
  {
   "cell_type": "code",
   "execution_count": 8,
   "id": "d99af727",
   "metadata": {},
   "outputs": [
    {
     "data": {
      "text/plain": [
       "(1297003, 277929, 277930)"
      ]
     },
     "execution_count": 8,
     "metadata": {},
     "output_type": "execute_result"
    }
   ],
   "source": [
    "len(train_pions),len(test_pions),len(val_pions)"
   ]
  },
  {
   "cell_type": "code",
   "execution_count": 9,
   "id": "8e2338eb",
   "metadata": {},
   "outputs": [],
   "source": [
    "import pickle\n",
    "with open(r\"/Cherenkov/Data/Training_Kaons_ParticleGun.pkl\",\"wb\") as file:\n",
    "    pickle.dump(train_pions,file)\n",
    "    \n",
    "with open(r\"/Cherenkov/Data/Validation_Kaons_ParticleGun.pkl\",\"wb\") as file:\n",
    "    pickle.dump(val_pions,file)\n",
    "    \n",
    "with open(r\"/Cherenkov/Data/Testing_Kaons_ParticleGun.pkl\",\"wb\") as file:\n",
    "    pickle.dump(test_pions,file)"
   ]
  },
  {
   "cell_type": "code",
   "execution_count": 10,
   "id": "1be3211d",
   "metadata": {},
   "outputs": [],
   "source": [
    "del train_pions,val_pions,test_pions"
   ]
  },
  {
   "cell_type": "markdown",
   "id": "e2292eb9",
   "metadata": {},
   "source": [
    "# Making .csv files for training of NF"
   ]
  },
  {
   "cell_type": "code",
   "execution_count": 23,
   "id": "ba8eca75",
   "metadata": {},
   "outputs": [],
   "source": [
    "import numpy as np\n",
    "rho_train_ = np.load(r\"/Cherenkov/Data/Training_Kaons_ParticleGun.pkl\",allow_pickle=True)\n",
    "rho_test_ = np.load(r\"/Cherenkov/Data/Validation_Kaons_ParticleGun.pkl\",allow_pickle=True)\n",
    "rho_val_ = np.load(\"/Cherenkov/Data/Testing_Kaons_ParticleGun.pkl\",allow_pickle=True)"
   ]
  },
  {
   "cell_type": "markdown",
   "id": "5588c717",
   "metadata": {},
   "source": [
    "Insert the different train,validation or testing arrays into the dataset below."
   ]
  },
  {
   "cell_type": "code",
   "execution_count": 9,
   "id": "199ffe3c",
   "metadata": {},
   "outputs": [
    {
     "name": "stdout",
     "output_type": "stream",
     "text": [
      "100319\n"
     ]
    }
   ],
   "source": [
    "dataset = DIRC_Dataset(rho_test_)\n",
    "print(len(dataset))"
   ]
  },
  {
   "cell_type": "code",
   "execution_count": 10,
   "id": "5e2dbf8b",
   "metadata": {
    "scrolled": true
   },
   "outputs": [
    {
     "name": "stdout",
     "output_type": "stream",
     "text": [
      "0\n",
      "100000\n"
     ]
    }
   ],
   "source": [
    "hits = []\n",
    "conditions = []\n",
    "metadata = []\n",
    "events_dict = []\n",
    "eventIDs = []\n",
    "\n",
    "for i in range(len(dataset)):\n",
    "    if i % 100000 == 0:\n",
    "        print(i)\n",
    "    h,cond,meta,eventID,status = dataset.__getitem__(i)\n",
    "    \n",
    "    if status == -1:\n",
    "        print('Rejection.')\n",
    "        continue\n",
    "#     dicte = {\"EventID\":eventID,\"hits\":h,\"conditions\":cond,\"meta\":meta}\n",
    "#     events_dict.append(dicte)\n",
    "    hits.append(h)\n",
    "    conditions.append(cond)\n",
    "    metadata.append(meta)\n",
    "    eventIDs.append(eventID * np.ones_like(cond[:,0]))"
   ]
  },
  {
   "cell_type": "code",
   "execution_count": 11,
   "id": "fb2e938a",
   "metadata": {},
   "outputs": [],
   "source": [
    "import pandas as pd\n",
    "def to_csv(file_path,hits,conds,meta):\n",
    "    hits = np.concatenate(hits)\n",
    "    conds = np.concatenate(conds)\n",
    "    meta = np.concatenate(meta)\n",
    "    print(hits.shape,conds.shape,meta.shape)\n",
    "    hits_frame = pd.DataFrame(np.concatenate([hits,conds,meta],axis=1),columns=[\"x\",\"y\",\"time\",\"P\",\"theta\",\"phi\",\"barID\",\"barX\",\"barY\"])\n",
    "    print(\"Max\")\n",
    "    print(hits_frame.max())\n",
    "    print(\" \")\n",
    "    print(\"Min\")\n",
    "    print(hits_frame.min())\n",
    "    hits_frame.to_csv(file_path,sep=',',index=None)"
   ]
  },
  {
   "cell_type": "markdown",
   "id": "73f12712",
   "metadata": {},
   "source": [
    "Convert to .csv files for training the normalizing flows."
   ]
  },
  {
   "cell_type": "code",
   "execution_count": null,
   "id": "bbd41a2c",
   "metadata": {},
   "outputs": [
    {
     "name": "stdout",
     "output_type": "stream",
     "text": [
      "(5667388, 3) (5667388, 3) (5667388, 3)\n",
      "Max\n",
      "x        895.000000\n",
      "y        295.000000\n",
      "time     371.977000\n",
      "P          8.499129\n",
      "theta     11.430980\n",
      "phi      174.859467\n",
      "barID     47.000000\n",
      "barX     101.010056\n",
      "barY     100.306717\n",
      "dtype: float64\n",
      " \n",
      "Min\n",
      "x          3.000000\n",
      "y          3.000000\n",
      "time       0.000294\n",
      "P          0.950079\n",
      "theta      1.021368\n",
      "phi     -174.550217\n",
      "barID      0.000000\n",
      "barX    -104.618286\n",
      "barY    -101.957977\n",
      "dtype: float64\n"
     ]
    }
   ],
   "source": [
    "to_csv(\"/Cherenkov/Data/Training_Kaons_ParticleGun.csv\",hits,conditions,metadata)"
   ]
  },
  {
   "cell_type": "markdown",
   "id": "0aa37fbf",
   "metadata": {},
   "source": [
    "# Make presmeared training sets:"
   ]
  },
  {
   "cell_type": "code",
   "execution_count": 39,
   "id": "9faf88b6",
   "metadata": {
    "scrolled": true
   },
   "outputs": [
    {
     "data": {
      "text/html": [
       "<div>\n",
       "<style scoped>\n",
       "    .dataframe tbody tr th:only-of-type {\n",
       "        vertical-align: middle;\n",
       "    }\n",
       "\n",
       "    .dataframe tbody tr th {\n",
       "        vertical-align: top;\n",
       "    }\n",
       "\n",
       "    .dataframe thead th {\n",
       "        text-align: right;\n",
       "    }\n",
       "</style>\n",
       "<table border=\"1\" class=\"dataframe\">\n",
       "  <thead>\n",
       "    <tr style=\"text-align: right;\">\n",
       "      <th></th>\n",
       "      <th>x</th>\n",
       "      <th>y</th>\n",
       "      <th>time</th>\n",
       "      <th>P</th>\n",
       "      <th>theta</th>\n",
       "      <th>phi</th>\n",
       "      <th>barID</th>\n",
       "      <th>barX</th>\n",
       "      <th>barY</th>\n",
       "    </tr>\n",
       "  </thead>\n",
       "  <tbody>\n",
       "    <tr>\n",
       "      <th>0</th>\n",
       "      <td>71.0</td>\n",
       "      <td>95.0</td>\n",
       "      <td>72.3105</td>\n",
       "      <td>4.761747</td>\n",
       "      <td>3.368834</td>\n",
       "      <td>26.565176</td>\n",
       "      <td>25.0</td>\n",
       "      <td>27.002846</td>\n",
       "      <td>13.204746</td>\n",
       "    </tr>\n",
       "    <tr>\n",
       "      <th>1</th>\n",
       "      <td>77.0</td>\n",
       "      <td>109.0</td>\n",
       "      <td>29.9083</td>\n",
       "      <td>4.761747</td>\n",
       "      <td>3.368834</td>\n",
       "      <td>26.565176</td>\n",
       "      <td>25.0</td>\n",
       "      <td>27.002846</td>\n",
       "      <td>13.204746</td>\n",
       "    </tr>\n",
       "    <tr>\n",
       "      <th>2</th>\n",
       "      <td>127.0</td>\n",
       "      <td>65.0</td>\n",
       "      <td>31.3305</td>\n",
       "      <td>4.761747</td>\n",
       "      <td>3.368834</td>\n",
       "      <td>26.565176</td>\n",
       "      <td>25.0</td>\n",
       "      <td>27.002846</td>\n",
       "      <td>13.204746</td>\n",
       "    </tr>\n",
       "    <tr>\n",
       "      <th>3</th>\n",
       "      <td>145.0</td>\n",
       "      <td>133.0</td>\n",
       "      <td>50.8152</td>\n",
       "      <td>4.761747</td>\n",
       "      <td>3.368834</td>\n",
       "      <td>26.565176</td>\n",
       "      <td>25.0</td>\n",
       "      <td>27.002846</td>\n",
       "      <td>13.204746</td>\n",
       "    </tr>\n",
       "    <tr>\n",
       "      <th>4</th>\n",
       "      <td>133.0</td>\n",
       "      <td>145.0</td>\n",
       "      <td>67.6548</td>\n",
       "      <td>4.761747</td>\n",
       "      <td>3.368834</td>\n",
       "      <td>26.565176</td>\n",
       "      <td>25.0</td>\n",
       "      <td>27.002846</td>\n",
       "      <td>13.204746</td>\n",
       "    </tr>\n",
       "    <tr>\n",
       "      <th>...</th>\n",
       "      <td>...</td>\n",
       "      <td>...</td>\n",
       "      <td>...</td>\n",
       "      <td>...</td>\n",
       "      <td>...</td>\n",
       "      <td>...</td>\n",
       "      <td>...</td>\n",
       "      <td>...</td>\n",
       "      <td>...</td>\n",
       "    </tr>\n",
       "    <tr>\n",
       "      <th>69255840</th>\n",
       "      <td>871.0</td>\n",
       "      <td>145.0</td>\n",
       "      <td>69.6319</td>\n",
       "      <td>5.123284</td>\n",
       "      <td>2.806493</td>\n",
       "      <td>-47.433094</td>\n",
       "      <td>2.0</td>\n",
       "      <td>17.361284</td>\n",
       "      <td>-18.314543</td>\n",
       "    </tr>\n",
       "    <tr>\n",
       "      <th>69255841</th>\n",
       "      <td>889.0</td>\n",
       "      <td>115.0</td>\n",
       "      <td>79.2094</td>\n",
       "      <td>5.123284</td>\n",
       "      <td>2.806493</td>\n",
       "      <td>-47.433094</td>\n",
       "      <td>2.0</td>\n",
       "      <td>17.361284</td>\n",
       "      <td>-18.314543</td>\n",
       "    </tr>\n",
       "    <tr>\n",
       "      <th>69255842</th>\n",
       "      <td>895.0</td>\n",
       "      <td>109.0</td>\n",
       "      <td>129.1560</td>\n",
       "      <td>5.123284</td>\n",
       "      <td>2.806493</td>\n",
       "      <td>-47.433094</td>\n",
       "      <td>2.0</td>\n",
       "      <td>17.361284</td>\n",
       "      <td>-18.314543</td>\n",
       "    </tr>\n",
       "    <tr>\n",
       "      <th>69255843</th>\n",
       "      <td>815.0</td>\n",
       "      <td>189.0</td>\n",
       "      <td>48.4602</td>\n",
       "      <td>5.123284</td>\n",
       "      <td>2.806493</td>\n",
       "      <td>-47.433094</td>\n",
       "      <td>2.0</td>\n",
       "      <td>17.361284</td>\n",
       "      <td>-18.314543</td>\n",
       "    </tr>\n",
       "    <tr>\n",
       "      <th>69255844</th>\n",
       "      <td>895.0</td>\n",
       "      <td>189.0</td>\n",
       "      <td>63.5803</td>\n",
       "      <td>5.123284</td>\n",
       "      <td>2.806493</td>\n",
       "      <td>-47.433094</td>\n",
       "      <td>2.0</td>\n",
       "      <td>17.361284</td>\n",
       "      <td>-18.314543</td>\n",
       "    </tr>\n",
       "  </tbody>\n",
       "</table>\n",
       "<p>69255845 rows × 9 columns</p>\n",
       "</div>"
      ],
      "text/plain": [
       "              x      y      time         P     theta        phi  barID  \\\n",
       "0          71.0   95.0   72.3105  4.761747  3.368834  26.565176   25.0   \n",
       "1          77.0  109.0   29.9083  4.761747  3.368834  26.565176   25.0   \n",
       "2         127.0   65.0   31.3305  4.761747  3.368834  26.565176   25.0   \n",
       "3         145.0  133.0   50.8152  4.761747  3.368834  26.565176   25.0   \n",
       "4         133.0  145.0   67.6548  4.761747  3.368834  26.565176   25.0   \n",
       "...         ...    ...       ...       ...       ...        ...    ...   \n",
       "69255840  871.0  145.0   69.6319  5.123284  2.806493 -47.433094    2.0   \n",
       "69255841  889.0  115.0   79.2094  5.123284  2.806493 -47.433094    2.0   \n",
       "69255842  895.0  109.0  129.1560  5.123284  2.806493 -47.433094    2.0   \n",
       "69255843  815.0  189.0   48.4602  5.123284  2.806493 -47.433094    2.0   \n",
       "69255844  895.0  189.0   63.5803  5.123284  2.806493 -47.433094    2.0   \n",
       "\n",
       "               barX       barY  \n",
       "0         27.002846  13.204746  \n",
       "1         27.002846  13.204746  \n",
       "2         27.002846  13.204746  \n",
       "3         27.002846  13.204746  \n",
       "4         27.002846  13.204746  \n",
       "...             ...        ...  \n",
       "69255840  17.361284 -18.314543  \n",
       "69255841  17.361284 -18.314543  \n",
       "69255842  17.361284 -18.314543  \n",
       "69255843  17.361284 -18.314543  \n",
       "69255844  17.361284 -18.314543  \n",
       "\n",
       "[69255845 rows x 9 columns]"
      ]
     },
     "execution_count": 39,
     "metadata": {},
     "output_type": "execute_result"
    }
   ],
   "source": [
    "import pandas as pd\n",
    "\n",
    "df = pd.read_csv(\"/Cherenkov/Data/Training_Kaons_ParticleGun.csv\",sep=',',index_col=None)\n",
    "df"
   ]
  },
  {
   "cell_type": "code",
   "execution_count": 40,
   "id": "c5f51140",
   "metadata": {},
   "outputs": [
    {
     "data": {
      "text/plain": [
       "array([[<AxesSubplot:title={'center':'x'}>,\n",
       "        <AxesSubplot:title={'center':'y'}>,\n",
       "        <AxesSubplot:title={'center':'time'}>],\n",
       "       [<AxesSubplot:title={'center':'P'}>,\n",
       "        <AxesSubplot:title={'center':'theta'}>,\n",
       "        <AxesSubplot:title={'center':'phi'}>],\n",
       "       [<AxesSubplot:title={'center':'barID'}>,\n",
       "        <AxesSubplot:title={'center':'barX'}>,\n",
       "        <AxesSubplot:title={'center':'barY'}>]], dtype=object)"
      ]
     },
     "execution_count": 40,
     "metadata": {},
     "output_type": "execute_result"
    },
    {
     "data": {
      "image/png": "[encoded data removed]",
      "text/plain": [
       "<Figure size 1000x1000 with 9 Axes>"
      ]
     },
     "metadata": {},
     "output_type": "display_data"
    }
   ],
   "source": [
    "df.hist(bins=100,density=True,figsize=(10,10))"
   ]
  },
  {
   "cell_type": "code",
   "execution_count": 41,
   "id": "30da6eac",
   "metadata": {},
   "outputs": [
    {
     "data": {
      "text/plain": [
       "array([[<AxesSubplot:title={'center':'x'}>,\n",
       "        <AxesSubplot:title={'center':'y'}>,\n",
       "        <AxesSubplot:title={'center':'time'}>],\n",
       "       [<AxesSubplot:title={'center':'P'}>,\n",
       "        <AxesSubplot:title={'center':'theta'}>,\n",
       "        <AxesSubplot:title={'center':'phi'}>],\n",
       "       [<AxesSubplot:title={'center':'barID'}>,\n",
       "        <AxesSubplot:title={'center':'barX'}>,\n",
       "        <AxesSubplot:title={'center':'barY'}>]], dtype=object)"
      ]
     },
     "execution_count": 41,
     "metadata": {},
     "output_type": "execute_result"
    },
    {
     "data": {
      "image/png": "[encoded data removed]",
      "text/plain": [
       "<Figure size 1000x1000 with 9 Axes>"
      ]
     },
     "metadata": {},
     "output_type": "display_data"
    }
   ],
   "source": [
    "import numpy as np\n",
    "\n",
    "df['x'] = df['x'] + np.random.uniform(-3,3,size=df['x'].to_numpy().shape)\n",
    "df['y'] = df['y'] + np.random.uniform(-3,3,size=df['y'].to_numpy().shape)\n",
    "df.hist(figsize=(10,10),bins=100)"
   ]
  },
  {
   "cell_type": "code",
   "execution_count": 43,
   "id": "af020cff",
   "metadata": {},
   "outputs": [],
   "source": [
    "df.to_csv(\"/Cherenkov/Data/Training_Kaons_ParticleGun_Smeared.csv\",sep=',',index=None)"
   ]
  },
  {
   "cell_type": "code",
   "execution_count": 42,
   "id": "da520830",
   "metadata": {},
   "outputs": [
    {
     "data": {
      "text/plain": [
       "(x        897.999988\n",
       " y        297.999942\n",
       " time     375.379000\n",
       " P          8.499743\n",
       " theta     11.624766\n",
       " phi      174.588837\n",
       " barID     47.000000\n",
       " barX     103.279648\n",
       " barY     102.391663\n",
       " dtype: float64,\n",
       " x          0.000005\n",
       " y          0.000016\n",
       " time       0.000002\n",
       " P          0.978703\n",
       " theta      0.973956\n",
       " phi     -174.718369\n",
       " barID      0.000000\n",
       " barX    -106.338310\n",
       " barY    -102.433014\n",
       " dtype: float64)"
      ]
     },
     "execution_count": 42,
     "metadata": {},
     "output_type": "execute_result"
    }
   ],
   "source": [
    "# Kaons\n",
    "df.max(),df.min()"
   ]
  },
  {
   "cell_type": "code",
   "execution_count": 38,
   "id": "62f6e55f",
   "metadata": {},
   "outputs": [
    {
     "data": {
      "text/plain": [
       "(x        897.999991\n",
       " y        297.999994\n",
       " time     373.676000\n",
       " P          8.499416\n",
       " theta     11.626334\n",
       " phi      174.691574\n",
       " barID     47.000000\n",
       " barX     108.075714\n",
       " barY     102.214432\n",
       " dtype: float64,\n",
       " x        2.471182e-07\n",
       " y        9.369300e-07\n",
       " time     1.306530e-05\n",
       " P        1.035606e+00\n",
       " theta    9.571560e-01\n",
       " phi     -1.746061e+02\n",
       " barID    0.000000e+00\n",
       " barX    -1.054531e+02\n",
       " barY    -1.027125e+02\n",
       " dtype: float64)"
      ]
     },
     "execution_count": 38,
     "metadata": {},
     "output_type": "execute_result"
    }
   ],
   "source": [
    "# Pions\n",
    "df.max(),df.min()"
   ]
  },
  {
   "cell_type": "code",
   "execution_count": null,
   "id": "0b3d494b",
   "metadata": {},
   "outputs": [],
   "source": [
    "{\"x_max\": 898,\"x_min\":0,\"y_max\":298,\"y_min\":0,\"time_max\":375.5,\"time_min\":0.0,\"P_max\":8.5 ,\"P_min\":0.97 ,\"theta_max\": 11.63,\"theta_min\": 0.96,\"phi_max\": 174.69, \"phi_min\":-174.72}"
   ]
  },
  {
   "cell_type": "markdown",
   "id": "f800b39f",
   "metadata": {},
   "source": [
    "# Making files in a format for generation"
   ]
  },
  {
   "cell_type": "code",
   "execution_count": 2,
   "id": "8733e5db",
   "metadata": {},
   "outputs": [
    {
     "name": "stderr",
     "output_type": "stream",
     "text": [
      "C:\\Users\\James\\.conda\\envs\\ptorch\\lib\\site-packages\\tqdm\\auto.py:21: TqdmWarning: IProgress not found. Please update jupyter and ipywidgets. See https://ipywidgets.readthedocs.io/en/stable/user_install.html\n",
      "  from .autonotebook import tqdm as notebook_tqdm\n"
     ]
    }
   ],
   "source": [
    "import numpy as np\n",
    "import pandas as pd\n",
    "import random\n",
    "from torch.utils.data import Dataset\n",
    "import torch\n",
    "\n",
    "class DLL_Dataset(Dataset):\n",
    "    # Real Max: 376.82, Min: 1.901769999999999e-05\n",
    "    def __init__(self,file_path,stats={\"x_max\": 898,\"x_min\":0,\"y_max\":298,\"y_min\":0,\"time_max\":500.00,\"time_min\":0.0},time_cuts=None,log_time=False):\n",
    "        self.data = np.load(file_path,allow_pickle=True) # Useful for testing\n",
    "        self.n_photons = 250\n",
    "        self.stats = stats\n",
    "        self.conditional_maxes = np.array([8.5,11.63,175.5])\n",
    "        self.conditional_mins = np.array([0.95,0.90,-176.])\n",
    "        self.time_cuts = time_cuts\n",
    "        if self.time_cuts is not None:\n",
    "            print('Rejecting photons with time > {0}'.format(self.time_cuts))\n",
    "        self.log_time = log_time\n",
    "        if self.log_time:\n",
    "            print('Using log time.')\n",
    "            self.stats['time_max'] = 5.931767619849855\n",
    "            self.stats['time_min'] = -10.870140433500834\n",
    "\n",
    "    def __len__(self):\n",
    "        return len(self.data)\n",
    "\n",
    "    def scale_data(self,hits,stats):\n",
    "        x = hits[:,0]\n",
    "        y = hits[:,1]\n",
    "        time = hits[:,2]\n",
    "        x = 2.0 * (x - stats['x_min'])/(stats['x_max'] - stats['x_min']) - 1.0\n",
    "        y = 2.0 * (y - stats['y_min'])/(stats['y_max'] - stats['y_min']) - 1.0\n",
    "        time = 2.0 * (time - stats['time_min'])/(stats['time_max'] - stats['time_min']) - 1.0\n",
    "        return np.concatenate([np.c_[x],np.c_[y],np.c_[time]],axis=1)\n",
    "\n",
    "    def __getitem__(self, idx):\n",
    "\n",
    "        particle = self.data[idx]\n",
    "        pmtID = np.array(particle['pmtID'])\n",
    "        o_box = pmtID//108\n",
    "        if o_box[0] == 1:\n",
    "            pmtID -= 108\n",
    "\n",
    "        pixelID = np.array(particle['pixelID'])\n",
    "        barID = particle['BarID']\n",
    "        barX = particle['X']\n",
    "        P,theta,phi = particle['P'],particle['Theta'],particle['Phi']\n",
    "        \n",
    "\n",
    "        row = (pmtID//18) * 8 + pixelID//8\n",
    "        col = (pmtID%18) * 8 + pixelID%8\n",
    "\n",
    "        time = np.array(particle['leadTime'])\n",
    "\n",
    "        pos_time = np.where((time > 0) & (time < 500))[0]\n",
    "        row = row[pos_time]\n",
    "        col = col[pos_time]\n",
    "        time = time[pos_time]\n",
    "\n",
    "        pmtID = pmtID[pos_time]\n",
    "\n",
    "        assert len(row) == len(time)\n",
    "\n",
    "        x = col * 6. + (pmtID % 18) * 2. + 3.\n",
    "        y = row * 6. + (pmtID // 18) * 2. + 3.\n",
    "\n",
    "        hits = np.concatenate([np.c_[x],np.c_[y],np.c_[time]],axis=1)\n",
    "        conds = np.array([particle['P'],particle['Theta'],particle['Phi']])\n",
    "        conds = conds.reshape(1,-1).repeat(len(x),0)\n",
    "        unscaled_conds = conds.copy()\n",
    "\n",
    "        if self.log_time:\n",
    "            hits[:,2] = np.log(hits[:,2])\n",
    "\n",
    "\n",
    "        if self.time_cuts is not None:\n",
    "            idx = np.where(hits[:,2] < self.time_cuts)[0]\n",
    "            hits = hits[idx]\n",
    "            conds = conds[idx]\n",
    "\n",
    "        \n",
    "        PID = np.array(particle['PDG'])\n",
    "        n_hits = len(hits)\n",
    "        \n",
    "        conds = (conds - self.conditional_maxes) / (self.conditional_maxes - self.conditional_mins)\n",
    "    \n",
    "        return hits,conds,unscaled_conds,n_hits,P,theta,phi,barID,barX\n"
   ]
  },
  {
   "cell_type": "code",
   "execution_count": 11,
   "id": "6ce46c53",
   "metadata": {},
   "outputs": [],
   "source": [
    "all_data = DLL_Dataset(r\"/Cherenkov/Data/All_Kaons_ParticleGun.pkl\")"
   ]
  },
  {
   "cell_type": "code",
   "execution_count": 12,
   "id": "ae36f8f6",
   "metadata": {},
   "outputs": [],
   "source": [
    "hit_vec = []\n",
    "cond_vec = []\n",
    "unscaled_cond_vec = []\n",
    "n_hits_vec = []\n",
    "P_vec = []\n",
    "theta_vec = []\n",
    "phi_vec = []\n",
    "barID_vec = []\n",
    "barX_vec = []\n",
    "data_dict = {}\n",
    "\n",
    "for i in range(len(all_data)):\n",
    "    hits,conds,unscaled_conds,n_hits,P,theta,phi,barID,barX = all_data.__getitem__(i)\n",
    "    hit_vec.append(hits)\n",
    "    cond_vec.append(conds)\n",
    "    unscaled_cond_vec.append(unscaled_conds)\n",
    "    n_hits_vec.append(n_hits)\n",
    "    P_vec.append(P)\n",
    "    theta_vec.append(theta)\n",
    "    phi_vec.append(phi)\n",
    "    barID_vec.append(barID)\n",
    "    barX_vec.append(barX)"
   ]
  },
  {
   "cell_type": "code",
   "execution_count": 13,
   "id": "eeaa2b5e",
   "metadata": {},
   "outputs": [
    {
     "name": "stdout",
     "output_type": "stream",
     "text": [
      "NHits 1502032\n",
      "P 1502032\n",
      "theta 1502032\n",
      "phi 1502032\n",
      "BarID 1502032\n",
      "X 1502032\n",
      "Hits 1502032\n",
      "conds 1502032\n"
     ]
    }
   ],
   "source": [
    "data_dict['NHits'] = np.array(n_hits_vec)\n",
    "data_dict['P'] = np.array(P_vec)\n",
    "data_dict['theta'] = np.array(theta_vec)\n",
    "data_dict['phi'] = np.array(phi_vec)\n",
    "data_dict['BarID'] = np.array(barID_vec)\n",
    "data_dict['X'] = np.array(barX_vec)\n",
    "data_dict['Hits'] = hit_vec\n",
    "data_dict['conds'] = cond_vec\n",
    "\n",
    "for key in list(data_dict.keys()):\n",
    "    print(key,len(data_dict[key]))"
   ]
  },
  {
   "cell_type": "code",
   "execution_count": 54,
   "id": "a3e48888",
   "metadata": {},
   "outputs": [
    {
     "name": "stdout",
     "output_type": "stream",
     "text": [
      "Pions:  373.676\n"
     ]
    }
   ],
   "source": [
    "max_t = 0\n",
    "\n",
    "for i in range(len(data_dict['Hits'])):\n",
    "    t = data_dict['Hits'][i][:,2].max()\n",
    "    if t > max_t:\n",
    "        max_t = t\n",
    "        \n",
    "print(\"Pions: \",max_t)"
   ]
  },
  {
   "cell_type": "code",
   "execution_count": 59,
   "id": "0f8881a6",
   "metadata": {},
   "outputs": [
    {
     "name": "stdout",
     "output_type": "stream",
     "text": [
      "Kaons:  375.379\n"
     ]
    }
   ],
   "source": [
    "max_t = 0\n",
    "\n",
    "for i in range(len(data_dict['Hits'])):\n",
    "    t = data_dict['Hits'][i][:,2].max()\n",
    "    if t > max_t:\n",
    "        max_t = t\n",
    "        \n",
    "print(\"Kaons: \",max_t)"
   ]
  },
  {
   "cell_type": "code",
   "execution_count": 14,
   "id": "88694052",
   "metadata": {},
   "outputs": [],
   "source": [
    "import pickle\n",
    "with open(r\"Cherenkov/Data/TrackWiseGenerations_Pions.pkl\",'wb') as file:\n",
    "    pickle.dump(data_dict,file)"
   ]
  }
 ],
 "metadata": {
  "kernelspec": {
   "display_name": "Python 3 (ipykernel)",
   "language": "python",
   "name": "python3"
  },
  "language_info": {
   "codemirror_mode": {
    "name": "ipython",
    "version": 3
   },
   "file_extension": ".py",
   "mimetype": "text/x-python",
   "name": "python",
   "nbconvert_exporter": "python",
   "pygments_lexer": "ipython3",
   "version": "3.9.12"
  }
 },
 "nbformat": 4,
 "nbformat_minor": 5
}
